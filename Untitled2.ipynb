{
 "cells": [
  {
   "cell_type": "code",
   "execution_count": 1,
   "metadata": {},
   "outputs": [],
   "source": [
    "#Programa: PARCIAL 2 \n",
    "#@autor: @Samara villalba Chapeton\n",
    "#Propósito: Calcular el maximo y minimo de una lista que es llenada\n",
    "#por el usuario\n",
    "#Creado el Miercoles 2 de Octubre 2019"
   ]
  },
  {
   "cell_type": "code",
   "execution_count": 2,
   "metadata": {},
   "outputs": [
    {
     "name": "stdout",
     "output_type": "stream",
     "text": [
      "introduzca la cantidad de numeros que desea guardar en la lista: 2\n",
      "<class 'int'> \n",
      "\n"
     ]
    }
   ],
   "source": [
    "# Peticion de cantidad de datos\n",
    "cantidad=int(input('introduzca la cantidad de numeros que desea guardar en la lista: '))\n",
    "print(type(cantidad),'\\n')"
   ]
  },
  {
   "cell_type": "code",
   "execution_count": 3,
   "metadata": {},
   "outputs": [],
   "source": [
    "#validar que sea entero\n",
    "while(type(cantidad)!= int):\n",
    "\n",
    "    cantidad=int(input('introduzca la cantidad de numeros que desea guardar en la lista'))"
   ]
  },
  {
   "cell_type": "code",
   "execution_count": 4,
   "metadata": {},
   "outputs": [],
   "source": [
    "# Validar que sea mayor a 0 y menor a 10\n",
    "while cantidad<=0 or cantidad>10:\n",
    "    #Volver a pedir la cantidad \n",
    "    cantidad=int(input('la cantidad debe estar entre 1 y 10: '))\n",
    "\n",
    "\n",
    "    #Validar que sea entero\n",
    "    while(type(cantidad)!= int):\n",
    "         cantidad=int(input('introduzca la cantidad de numeros que desea guardar en la lista'))"
   ]
  },
  {
   "cell_type": "code",
   "execution_count": 5,
   "metadata": {},
   "outputs": [],
   "source": [
    "# Se inicializa la lista el maximo y minimo\n",
    "lista = []\n",
    "maximo = 0\n",
    "minimo = 0"
   ]
  },
  {
   "cell_type": "code",
   "execution_count": 6,
   "metadata": {},
   "outputs": [
    {
     "name": "stdout",
     "output_type": "stream",
     "text": [
      "digite el numero en la posicion: 1\n",
      "digite el numero en la posicion: 0\n"
     ]
    }
   ],
   "source": [
    "#Recorre la cantidad de datos del usuario\n",
    "for i in range(cantidad):\n",
    "    #Se recive el numero del array\n",
    "    numeroPedido=int(input('digite el numero en la posicion: '))\n",
    "    #Se valida que sea entero\n",
    "    while(type(numeroPedido)!=int):\n",
    "         numeroPedido=int(input('Digite numeros, vuelva a intentarlo posicion: '))\n",
    "    #Se añade a la lista   \n",
    "    lista.append(numeroPedido)\n",
    "    #Se mira cual es mayor y menor\n",
    "    if (i==0):\n",
    "        minimo = numeroPedido\n",
    "        maximo = numeroPedido\n",
    "    if(numeroPedido>maximo):\n",
    "\n",
    "        maximo=numeroPedido\n",
    "\n",
    "    elif(numeroPedido<minimo):\n",
    "\n",
    "        minimo=numeroPedido"
   ]
  },
  {
   "cell_type": "code",
   "execution_count": 7,
   "metadata": {},
   "outputs": [
    {
     "name": "stdout",
     "output_type": "stream",
     "text": [
      "El valor maximo es el numero 1\n",
      "El valor minimo es el numero 0\n",
      "la lista ingresada es  [1, 0]\n"
     ]
    }
   ],
   "source": [
    "print(\"El valor maximo es el numero\",maximo)\n",
    "\n",
    "print(\"El valor minimo es el numero\",minimo)\n",
    "print('la lista ingresada es ',lista)"
   ]
  },
  {
   "cell_type": "code",
   "execution_count": null,
   "metadata": {},
   "outputs": [],
   "source": []
  },
  {
   "cell_type": "code",
   "execution_count": null,
   "metadata": {},
   "outputs": [],
   "source": []
  }
 ],
 "metadata": {
  "kernelspec": {
   "display_name": "Python 3",
   "language": "python",
   "name": "python3"
  },
  "language_info": {
   "codemirror_mode": {
    "name": "ipython",
    "version": 3
   },
   "file_extension": ".py",
   "mimetype": "text/x-python",
   "name": "python",
   "nbconvert_exporter": "python",
   "pygments_lexer": "ipython3",
   "version": "3.6.5"
  }
 },
 "nbformat": 4,
 "nbformat_minor": 2
}
